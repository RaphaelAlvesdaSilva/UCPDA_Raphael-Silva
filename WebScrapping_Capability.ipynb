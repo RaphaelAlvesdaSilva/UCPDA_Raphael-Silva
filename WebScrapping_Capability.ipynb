{
  "cells": [
    {
      "cell_type": "markdown",
      "source": [
        "### Import Libraries"
      ],
      "metadata": {
        "id": "t2vg_FMSqX1B"
      }
    },
    {
      "cell_type": "code",
      "execution_count": 3,
      "metadata": {
        "id": "TVareaZemQKu"
      },
      "outputs": [],
      "source": [
        "import requests\n",
        "from bs4 import BeautifulSoup\n",
        "import pandas as pd"
      ]
    },
    {
      "cell_type": "markdown",
      "source": [
        "### Scrape UCD Professional Academy website"
      ],
      "metadata": {
        "id": "ymk_hNkNqiqk"
      }
    },
    {
      "cell_type": "code",
      "execution_count": null,
      "metadata": {
        "id": "9NO-BStfnv57"
      },
      "outputs": [],
      "source": [
        "URL = \"https://www.ucd.ie/professionalacademy/\"\n",
        "r = requests.get(URL)\n",
        "soup = BeautifulSoup(r.content, 'html5lib')\n",
        "\n",
        "# Read website source code\n",
        "print(soup.prettify())\n",
        "\n",
        "# Extract website footer information\n",
        "table = soup.findAll('a', attrs = {'class':\"creative_footer__link\"})\n",
        "print(table)\n",
        "\n",
        "# Extract courses URLs\n",
        "subject_areas = []\n",
        "for item in table:\n",
        "    items = item['href']\n",
        "    if items.find(\"findyourcourse\") > 0: \n",
        "      subject_areas.append(items)\n",
        "\n",
        "subject_areas = subject_areas[2:]\n",
        "\n",
        "# Create a list with all courses URLs\n",
        "subject_areas_urls = []\n",
        "for sa in subject_areas:\n",
        "    new_sa = sa.replace(\"/professionalacademy/\", \"\")\n",
        "    subject_areas_urls.append(URL+new_sa)\n",
        "\n",
        "print(subject_areas_urls)"
      ]
    },
    {
      "cell_type": "markdown",
      "source": [
        "### Scrape courses details"
      ],
      "metadata": {
        "id": "JEKmRAosrh0w"
      }
    },
    {
      "cell_type": "code",
      "source": [
        "# Create an empty pandas DataFrame\n",
        "courses_detailed = pd.DataFrame(columns = [\"Type\",\"Course\", \"Info\", \"Duration\", \"Fee\"])\n",
        "\n",
        "# Extract courses details\n",
        "for url in subject_areas_urls:\n",
        "  URL = url\n",
        "  r = requests.get(URL)\n",
        "  soup = BeautifulSoup(r.content, 'html5lib')\n",
        "  courses_grid = soup.findAll('div', attrs = {\"class\":\"block_category_courses__grid\"})\n",
        "\n",
        "# For each item in the grid, extract main information\n",
        "  for course in courses_grid:\n",
        "    # Course Type\n",
        "    course_type = course.p.string\n",
        "\n",
        "    # Course Name\n",
        "    course_name = course.h2.a.string\n",
        "\n",
        "    # Course Information\n",
        "    info = []\n",
        "    for information in course.findAll('span'):\n",
        "      info.append(information.string)\n",
        "\n",
        "    # Course Duration\n",
        "    duration = course.find('p', attrs = {\"class\":\"block_category_courses__duration\"}).get_text()\n",
        "\n",
        "    # Course Fee\n",
        "    fee_list = course.find('p', attrs = {\"class\":\"block_category_courses__price\"}).text.split()\n",
        "    if fee_list[0] == \"from\":\n",
        "      fee = ' '.join(fee_list)\n",
        "    else:\n",
        "      fee = fee_list[0]\n",
        "\n",
        "    # Extracted Course Dictionary and DataFrame\n",
        "    data = {\"Type\": course_type,\n",
        "            \"Course\": course_name,\n",
        "            \"Info\": [info],\n",
        "            \"Duration\" :duration,\n",
        "            \"Fee\" : fee}\n",
        "\n",
        "    df = pd.DataFrame(data)\n",
        "\n",
        "    # Union course detail extract and the main DataFrame\n",
        "    courses_detailed = pd.concat([courses_detailed, df])"
      ],
      "metadata": {
        "id": "rmwfE6INijxz"
      },
      "execution_count": 5,
      "outputs": []
    },
    {
      "cell_type": "markdown",
      "source": [
        "### Remove Duplicates"
      ],
      "metadata": {
        "id": "PEDgtVnCtfWi"
      }
    },
    {
      "cell_type": "code",
      "source": [
        "# Check DataFrame shape before removing duplicates\n",
        "print(courses_detailed.shape)\n",
        "\n",
        "# Remove duplicates and check new shape\n",
        "courses_detailed.drop_duplicates(subset=['Course'],inplace=True)\n",
        "print(courses_detailed.shape)"
      ],
      "metadata": {
        "colab": {
          "base_uri": "https://localhost:8080/"
        },
        "id": "OU5qLi2XjdZB",
        "outputId": "309f91d2-3f3b-44c5-92c9-6def95a21169"
      },
      "execution_count": 6,
      "outputs": [
        {
          "output_type": "stream",
          "name": "stdout",
          "text": [
            "(54, 5)\n",
            "(38, 5)\n"
          ]
        }
      ]
    },
    {
      "cell_type": "markdown",
      "source": [
        "### Export scrapped data"
      ],
      "metadata": {
        "id": "mX0DAAYEuBNh"
      }
    },
    {
      "cell_type": "code",
      "source": [
        "# Save DataFrame as .csv on same path as the Jupyter Notebook\n",
        "courses_detailed.to_csv(index=False)\n",
        "\n",
        "# Visualize the exported DataFrame\n",
        "print(courses_detailed)"
      ],
      "metadata": {
        "colab": {
          "base_uri": "https://localhost:8080/"
        },
        "id": "vjkg9rP_uGze",
        "outputId": "c8cd0e85-e8ad-40cf-c0ce-1bddcbb3e340"
      },
      "execution_count": 7,
      "outputs": [
        {
          "output_type": "stream",
          "name": "stdout",
          "text": [
            "                               Type                                Course  \\\n",
            "0              Professional Diploma               Leadership & Management   \n",
            "0              Professional Diploma                    Project Management   \n",
            "0  Professional Academy Certificate              Business Coaching Skills   \n",
            "0              Professional Diploma      Effective Business Communication   \n",
            "0              Professional Diploma                         HR Management   \n",
            "0                Specialist Diploma            HR Management - Specialist   \n",
            "0              Professional Diploma    Finance for Non-Financial Managers   \n",
            "0              Professional Diploma               Supply Chain Management   \n",
            "0              Professional Diploma                Performance Management   \n",
            "0              Professional Diploma                     Change Management   \n",
            "0              Professional Diploma     Digital Transformation Management   \n",
            "0              Professional Diploma                      Sales Management   \n",
            "0      Professional Academy Diploma       Full Stack Software Development   \n",
            "0               Profesional Diploma                    Advanced Photoshop   \n",
            "0              Professional Diploma            Digital Product Management   \n",
            "0                     Certification                    Python Programming   \n",
            "0              Professional Diploma             Digital Business Analysis   \n",
            "0              Professional Diploma  Artificial Intelligence for Business   \n",
            "0              Professional Diploma                       Ethical Hacking   \n",
            "0              Professional Diploma                         Cybersecurity   \n",
            "0                       Certificate              COMPTIA A+ (Core Series)   \n",
            "0              Professional Diploma                AWS Cloud Practitioner   \n",
            "0              Professional Diploma                     Digital Marketing   \n",
            "0              Professional Diploma                  Digital Media Design   \n",
            "0              Professional Diploma         Content Writing for Marketing   \n",
            "0              Professional Diploma                      Event Management   \n",
            "0              Professional Diploma       Customer Experience & Behaviour   \n",
            "0              Professional Diploma                             eCommerce   \n",
            "0              Professional Diploma                         B2B Marketing   \n",
            "0              Professional Diploma       PR and Marketing Communications   \n",
            "0              Professional Diploma                Social Media Marketing   \n",
            "0              Professional Diploma      Bookkeeping & Payroll Management   \n",
            "0              Professional Diploma                 Office Administration   \n",
            "0                       Certificate           Data Analytics for Business   \n",
            "0                       Certificate         Effective Presentation Skills   \n",
            "0                       Certificate                     GDPR for Business   \n",
            "0                       Certificate           Introductory Data Analytics   \n",
            "0            Specialist Certificate             Data Analytics Essentials   \n",
            "\n",
            "                                           Info    Duration          Fee  \n",
            "0  [Full-time, Part-time, On Campus, On Demand]    36 Hours       €1,000  \n",
            "0  [Full-time, Part-time, On Campus, On Demand]    36 Hours       €1,000  \n",
            "0                                   [Part-time]    30 Hours  from €1,700  \n",
            "0                                   [Part-time]    36 Hours  from €1,700  \n",
            "0             [Part-time, Full-time, On Campus]    36 Hours  from €1,700  \n",
            "0                                   [Part-time]    72 Hours  from €3,000  \n",
            "0             [Part-time, On Demand, On Campus]    30 Hours       €1,000  \n",
            "0                                   [Part-time]    36 Hours  from €1,700  \n",
            "0                                   [Part-time]    15 Hours  from €1,700  \n",
            "0                                   [Part-time]    15 Hours  from €1,700  \n",
            "0                                   [Part-time]    36 Hours  from €1,700  \n",
            "0                                   [Part-time]    36 Hours  from €1,700  \n",
            "0                                   [Part-time]   600 Hours  from €7,995  \n",
            "0                                   [Part-time]    24 Hours  from €1,700  \n",
            "0                                   [Part-time]    36 Hours  from €1,700  \n",
            "0                                   [Part-time]    12 Hours  from €1,150  \n",
            "0                                   [Part-time]    36 Hours  from €1,700  \n",
            "0                                   [Part-time]    36 Hours  from €1,700  \n",
            "0                                   [Part-time]    36 Hours  from €1,700  \n",
            "0                                   [Part-time]    36 Hours  from €1,700  \n",
            "0                                   [Part-time]    40 Hours  from €2,500  \n",
            "0                                   [Part-time]    30 Hours  from €1,700  \n",
            "0             [Part-time, Full-time, On Campus]    36 Hours  from €1,700  \n",
            "0                                   [Part-time]    36 Hours  from €1,700  \n",
            "0                                   [Part-time]    36 Hours  from €1,700  \n",
            "0                                   [Part-time]    36 Hours  from €1,700  \n",
            "0                                   [Part-time]    36 Hours  from €1,700  \n",
            "0                                   [Part-time]    30 Hours  from €1,700  \n",
            "0                                   [Part-time]    36 Hours  from €1,700  \n",
            "0                        [Part-time, On Demand]    30 Hours       €1,000  \n",
            "0                                   [Part-time]    36 Hours  from €1,700  \n",
            "0                                   [Part-time]    36 Hours  from €1,700  \n",
            "0                                   [Part-time]    36 Hours  from €1,700  \n",
            "0                                   [Part-time]    40 Hours  from €1,500  \n",
            "0                        [Part-time, On Campus]    15 Hours  from €1,000  \n",
            "0                                   [Part-time]    15 Hours  from €1,700  \n",
            "0                                   [Part-time]    40 Hours  from €1,500  \n",
            "0                                   [Part-time]    80 Hours  from €3,000  \n"
          ]
        }
      ]
    }
  ],
  "metadata": {
    "colab": {
      "provenance": []
    },
    "kernelspec": {
      "display_name": "Python 3",
      "name": "python3"
    },
    "language_info": {
      "name": "python"
    }
  },
  "nbformat": 4,
  "nbformat_minor": 0
}