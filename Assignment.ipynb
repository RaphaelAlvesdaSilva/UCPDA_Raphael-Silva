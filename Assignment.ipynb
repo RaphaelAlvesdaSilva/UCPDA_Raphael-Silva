{
 "cells": [
  {
   "cell_type": "markdown",
   "metadata": {},
   "source": [
    "### Import Libraries"
   ]
  },
  {
   "cell_type": "code",
   "execution_count": 172,
   "metadata": {},
   "outputs": [],
   "source": [
    "import pandas as pd\n",
    "import numpy as np\n",
    "import re\n",
    "from sklearn.feature_extraction.text import TfidfVectorizer\n",
    "from sklearn import svm\n",
    "from sklearn.model_selection import GridSearchCV\n",
    "from sklearn.model_selection import train_test_split\n",
    "from sklearn import metrics\n",
    "from sklearn import datasets"
   ]
  },
  {
   "cell_type": "markdown",
   "metadata": {},
   "source": [
    "### Functions"
   ]
  },
  {
   "cell_type": "code",
   "execution_count": 173,
   "metadata": {},
   "outputs": [],
   "source": [
    "def cleanDescriptions(productDescriptions):\n",
    "    '''Clean product descriptions\n",
    "    Remove all characters other than digits and letters\n",
    "    Remove all unecessary characters and noise to the classification model'''\n",
    "\n",
    "    product_descriptions = productDescriptions.str.upper()\n",
    "\n",
    "    new_series = pd.Series()\n",
    "\n",
    "    for row in product_descriptions:\n",
    "        clean_row = re.sub('\\/', ' ', row, 0, re.IGNORECASE)\n",
    "        clean_row = re.sub('[^A-Z0-9\\s]', '', clean_row, 0, re.IGNORECASE)\n",
    "\n",
    "        clean_row = clean_row.str.strip()\n",
    "\n",
    "\n",
    "        new_series = new_series.append(pd.Series([clean_row]),  ignore_index=True)\n",
    "        \n",
    "        \n",
    "    return new_series.to_numpy()  "
   ]
  },
  {
   "cell_type": "markdown",
   "metadata": {},
   "source": [
    "### Import Dataset"
   ]
  },
  {
   "cell_type": "code",
   "execution_count": 174,
   "metadata": {},
   "outputs": [
    {
     "name": "stderr",
     "output_type": "stream",
     "text": [
      "c:\\Users\\GJ584JM\\Anaconda3\\lib\\site-packages\\IPython\\core\\interactiveshell.py:3444: DtypeWarning: Columns (8) have mixed types.Specify dtype option on import or set low_memory=False.\n",
      "  exec(code_obj, self.user_global_ns, self.user_ns)\n"
     ]
    }
   ],
   "source": [
    "# Import Cisco’s Public Export Product Data (PEPD)\n",
    "raw_data = pd.read_csv(\"Cisco_raw_data.csv\", encoding='cp1252')"
   ]
  },
  {
   "attachments": {},
   "cell_type": "markdown",
   "metadata": {},
   "source": [
    "### ETL"
   ]
  },
  {
   "cell_type": "code",
   "execution_count": 175,
   "metadata": {},
   "outputs": [
    {
     "name": "stdout",
     "output_type": "stream",
     "text": [
      "Product Desc    12\n",
      "US ECCN          8\n",
      "dtype: int64\n"
     ]
    }
   ],
   "source": [
    "# Remove SERVICE Product Family\n",
    "raw_data = raw_data.loc[raw_data['Product Family'] != \"SERVICE\"] \n",
    "\n",
    "# Keep only necessary fields\n",
    "raw_data = raw_data[[\"Product Desc\",\"US ECCN\"]] \n",
    "\n",
    "# Check and drop nas\n",
    "print(raw_data.isna().sum()) \n",
    "raw_data.dropna(axis=0, inplace=True)\n",
    "\n",
    " # Remove both the leading and the trailing white spaces \n",
    "raw_data['Product Desc'] = raw_data['Product Desc'].str.strip()\n",
    "\n",
    "# Count number of words in each description and keep only descriptions with more than 5 words\n",
    "raw_data['Number of words'] = raw_data['Product Desc'].apply(lambda desc : len(desc.split())) \n",
    "raw_data = raw_data.loc[raw_data['Number of words'] > 5] \n",
    "\n",
    "# Label predictors \n",
    "raw_data[\"Predictor\"] = raw_data['US ECCN'].apply(lambda eccn : 0 if eccn == \"EAR99\" else 1) \n",
    "raw_data[\"Predictor Name\"] = raw_data['US ECCN'].apply(lambda eccn : \"Not Controlled\" if eccn == \"EAR99\" else \"Controlled\")\n",
    "\n",
    "# Drop unecessary fields\n",
    "raw_data.drop(['US ECCN', 'Number of words'], axis=1, inplace=True) \n",
    "\n",
    "# Remove duplicates\n",
    "df = raw_data.drop_duplicates()"
   ]
  },
  {
   "attachments": {},
   "cell_type": "markdown",
   "metadata": {},
   "source": [
    "### Reducing the data size"
   ]
  },
  {
   "cell_type": "code",
   "execution_count": 176,
   "metadata": {},
   "outputs": [],
   "source": [
    "# Reducing significantly the data size to run tests faster before running the final model\n",
    "df = df[0:2000]"
   ]
  },
  {
   "attachments": {},
   "cell_type": "markdown",
   "metadata": {},
   "source": [
    "### Train Test Split"
   ]
  },
  {
   "cell_type": "code",
   "execution_count": 177,
   "metadata": {},
   "outputs": [
    {
     "name": "stdout",
     "output_type": "stream",
     "text": [
      "Controlled        0.6645\n",
      "Not Controlled    0.3355\n",
      "Name: Predictor Name, dtype: float64\n"
     ]
    }
   ],
   "source": [
    "# Check predictors frequency\n",
    "print(df[\"Predictor Name\"].value_counts(normalize=True))\n",
    "\n",
    "# BAG OF WORDS (BOW)\n",
    "X = df['Product Desc']\n",
    "y = df['Predictor']\n",
    "\n",
    "# Create training and test split\n",
    "x_train, x_test, y_train, y_test = train_test_split(X, y, test_size=0.2, train_size=0.8, stratify=y, random_state=7)"
   ]
  },
  {
   "attachments": {},
   "cell_type": "markdown",
   "metadata": {},
   "source": [
    "### Clean Data"
   ]
  },
  {
   "cell_type": "code",
   "execution_count": 178,
   "metadata": {},
   "outputs": [
    {
     "name": "stdout",
     "output_type": "stream",
     "text": [
      "63                            NCS 2002 DC VERSION 2, ANSI\n",
      "3275           ^Cisco GS 2520 LAN BASE WITH EXPRESS SETUP\n",
      "1024                   CISCO 3200 SERIES IOS IP PLUS 3DES\n",
      "1373    ^Cisco 7200 Series IOS SERVICE PROVIDER/SECURE...\n",
      "2945                   CISCO 3745 SER IOS ENTERPRISE BASE\n",
      "2408    ^Cisco 4500/4700 Series IOS IP PLUS IPSEC 3DES...\n",
      "1085    ^Integrated Services Module for IPSec and MPPE...\n",
      "198                     CISCO ISR 4451-X IOS XE UNIVERSAL\n",
      "2900    ^Cisco 2801 IOS  ASK9-AESK9 FEAT SET FACTORY U...\n",
      "121      CISCO 8200 32X400G QSFPDD 1RU FIXED SYSTEM W/HBM\n",
      "Name: Product Desc, dtype: object\n",
      "__\n",
      " ['NCS 2002 DC VERSION 2 ANSI' 'CISCO GS 2520 LAN BASE WITH EXPRESS SETUP'\n",
      " 'CISCO 3200 SERIES IOS IP PLUS 3DES'\n",
      " 'CISCO 7200 SERIES IOS SERVICE PROVIDER SECURED SHELL 3DES TITAN SKU REDUCTION'\n",
      " 'CISCO 3745 SER IOS ENTERPRISE BASE'\n",
      " 'CISCO 4500 4700 SERIES IOS IP PLUS IPSEC 3DES TITAN SKU REDUCTION'\n",
      " 'INTEGRATED SERVICES MODULE FOR IPSEC AND MPPE ENCRYPTION'\n",
      " 'CISCO ISR 4451X IOS XE UNIVERSAL'\n",
      " 'CISCO 2801 IOS  ASK9AESK9 FEAT SET FACTORY UPG FOR BUNDLES'\n",
      " 'CISCO 8200 32X400G QSFPDD 1RU FIXED SYSTEM W HBM']\n"
     ]
    },
    {
     "name": "stderr",
     "output_type": "stream",
     "text": [
      "C:\\Users\\GJ584JM\\AppData\\Local\\Temp/ipykernel_3092/2143730139.py:9: DeprecationWarning: The default dtype for empty Series will be 'object' instead of 'float64' in a future version. Specify a dtype explicitly to silence this warning.\n",
      "  new_series = pd.Series()\n"
     ]
    }
   ],
   "source": [
    "print(x_train[0:10])\n",
    "x_train2 = cleanDescriptions(x_train[0:10])\n",
    "print(\"__\\n\",x_train2[0:10])"
   ]
  }
 ],
 "metadata": {
  "kernelspec": {
   "display_name": "Python 3.9.7 ('base')",
   "language": "python",
   "name": "python3"
  },
  "language_info": {
   "codemirror_mode": {
    "name": "ipython",
    "version": 3
   },
   "file_extension": ".py",
   "mimetype": "text/x-python",
   "name": "python",
   "nbconvert_exporter": "python",
   "pygments_lexer": "ipython3",
   "version": "3.9.7"
  },
  "orig_nbformat": 4,
  "vscode": {
   "interpreter": {
    "hash": "b4ec5566ec930072f7dca5bc84e6588054c2ec6a9abef789d8da3680876395b2"
   }
  }
 },
 "nbformat": 4,
 "nbformat_minor": 2
}
